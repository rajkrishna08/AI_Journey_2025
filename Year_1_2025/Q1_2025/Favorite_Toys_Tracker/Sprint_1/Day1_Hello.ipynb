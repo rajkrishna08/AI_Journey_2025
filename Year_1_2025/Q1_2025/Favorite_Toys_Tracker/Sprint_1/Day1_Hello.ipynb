{
 "cells": [
  {
   "cell_type": "code",
   "execution_count": 5,
   "id": "81e95495-bb5b-43ee-be58-3d5dbad170d0",
   "metadata": {},
   "outputs": [
    {
     "name": "stdout",
     "output_type": "stream",
     "text": [
      "Hello, Krishna! I’m starting my coding adventure on April 20, 2025!\n"
     ]
    }
   ],
   "source": [
    "print(\"Hello, Krishna! I’m starting my coding adventure on April 20, 2025!\")"
   ]
  },
  {
   "cell_type": "code",
   "execution_count": 6,
   "id": "795ea920-88ba-4705-99c5-f55bf4cae790",
   "metadata": {},
   "outputs": [
    {
     "name": "stdout",
     "output_type": "stream",
     "text": [
      "Welcome to Krishna’s Toy Shop!\n"
     ]
    }
   ],
   "source": [
    "print(\"Welcome to Krishna’s Toy Shop!\")"
   ]
  },
  {
   "cell_type": "code",
   "execution_count": 7,
   "id": "1ca61fbd-fe98-45c1-8c09-01836176df9b",
   "metadata": {},
   "outputs": [
    {
     "name": "stdout",
     "output_type": "stream",
     "text": [
      "I like a car and a robot\n"
     ]
    }
   ],
   "source": [
    "toy1 = \"car\"\n",
    "toy2 = \"robot\"\n",
    "print(\"I like a\", toy1, \"and a\", toy2)"
   ]
  },
  {
   "cell_type": "code",
   "execution_count": 8,
   "id": "2afe064c-3d1a-46fb-8bf9-43f27304acd7",
   "metadata": {},
   "outputs": [
    {
     "name": "stdout",
     "output_type": "stream",
     "text": [
      "My favorite toys are a teddy bear and a puzzle\n"
     ]
    }
   ],
   "source": [
    "toy1 = \"teddy bear\"  # Pick your favorite toy!\n",
    "toy2 = \"puzzle\"\n",
    "print(\"My favorite toys are a\", toy1, \"and a\", toy2)"
   ]
  },
  {
   "cell_type": "code",
   "execution_count": 9,
   "id": "1d9c4882",
   "metadata": {},
   "outputs": [
    {
     "name": "stdout",
     "output_type": "stream",
     "text": [
      "Welcome to Krishna’s Celestial Toy Shop, where magic meets toys!\n",
      "Welcome to Krishna’s Toy Shop where we have a teddy bear\n",
      "The type of shop_sign is: <class 'str'>\n",
      "The type of toy_name is: <class 'str'>\n",
      "Welcome to Krishna Magic Shop where we have puzzle\n",
      "The type of shop_sign is: <class 'str'>\n",
      "The type of toy_name is: <class 'str'>\n",
      "I have 5 toys in my shop\n",
      "The type of total_toys is: <class 'int'>\n",
      "I have 5 toys in my shop\n",
      "The type of total_toys is: <class 'int'>\n",
      "The total price of my car and robot is $ 14.49\n",
      "The type of total_price is: <class 'float'>\n",
      "The total price of my car and robot is $ 14.49\n",
      "The type of total_price is: <class 'float'>\n",
      "My magic toy in the shop is: 1j\n",
      "The type of magic_number is: <class 'complex'>\n",
      "My magic toy in the shop is: 1j\n",
      "The type of magic_number is: <class 'complex'>\n",
      "My shop has these toys: ['car', 'robot', 'ball']\n",
      "The type of toys is: <class 'list'>\n"
     ]
    }
   ],
   "source": [
    "# Welcome to Krishna's Celestial Toy Shop!\n",
    "print(\"Welcome to Krishna’s Celestial Toy Shop, where magic meets toys!\")\n",
    "\n",
    "# Text Type: str\n",
    "# First way: Setting directly\n",
    "shop_sign = \"Krishna’s Toy Shop\"\n",
    "toy_name = \"teddy bear\"\n",
    "print(\"Welcome to\", shop_sign, \"where we have a\", toy_name)\n",
    "print(\"The type of shop_sign is:\", type(shop_sign))\n",
    "print(\"The type of toy_name is:\", type(toy_name))\n",
    "\n",
    "# Second way: Using str() constructor\n",
    "shop_sign = str(\"Krishna Magic Shop\")\n",
    "toy_name = str(\"puzzle\")\n",
    "print(\"Welcome to\", shop_sign, \"where we have\", toy_name)\n",
    "print(\"The type of shop_sign is:\", type(shop_sign))\n",
    "print(\"The type of toy_name is:\", type(toy_name))\n",
    "\n",
    "# Numeric Types: int\n",
    "# First way: Setting directly\n",
    "cars = 3\n",
    "robots = 2\n",
    "total_toys = cars + robots\n",
    "print(\"I have\", total_toys, \"toys in my shop\")\n",
    "print(\"The type of total_toys is:\", type(total_toys))\n",
    "\n",
    "# Second way: Using int() constructor\n",
    "cars = int(3)\n",
    "robots = int(2)\n",
    "total_toys = cars + robots\n",
    "print(\"I have\", total_toys, \"toys in my shop\")\n",
    "print(\"The type of total_toys is:\", type(total_toys))\n",
    "\n",
    "# Numeric Types: float\n",
    "# First way: Setting directly\n",
    "car_price = 5.99\n",
    "robot_price = 8.50\n",
    "total_price = car_price + robot_price\n",
    "print(\"The total price of my car and robot is $\", total_price)\n",
    "print(\"The type of total_price is:\", type(total_price))\n",
    "\n",
    "# Second way: Using float() constructor\n",
    "car_price = float(5.99)\n",
    "robot_price = float(8.50)\n",
    "total_price = car_price + robot_price\n",
    "print(\"The total price of my car and robot is $\", total_price)\n",
    "print(\"The type of total_price is:\", type(total_price))\n",
    "\n",
    "# Numeric Types: complex\n",
    "# First way: Setting directly\n",
    "magic_number = 1j\n",
    "print(\"My magic toy in the shop is:\", magic_number)\n",
    "print(\"The type of magic_number is:\", type(magic_number))\n",
    "\n",
    "# Second way: Using complex() constructor\n",
    "magic_number = complex(1j)\n",
    "print(\"My magic toy in the shop is:\", magic_number)\n",
    "print(\"The type of magic_number is:\", type(magic_number))\n",
    "\n",
    "# Sequence Types: list\n",
    "# First way: Setting directly with square brackets\n",
    "toys = [\"car\", \"robot\", \"ball\"]\n",
    "print(\"My shop has these toys:\", toys)\n",
    "print(\"The type of toys is:\", type(toys))"
   ]
  },
  {
   "cell_type": "markdown",
   "id": "a21f8f96",
   "metadata": {},
   "source": [
    "# Sequence Types: tuple\n",
    "# First way: Setting directly with parentheses\n",
    "toy_categories = (\"vehicles\", \"robots\", \"toys\")\n",
    "print(\"My categories are:\", toy_categories)\n",
    "print(\"type of toy_categories are:\", type(toy_categories))"
   ]
  },
  {
   "cell_type": "markdown",
   "id": "5d2f71dc",
   "metadata": {},
   "source": [
    "# Sequence Types: tuple\n",
    "# First way: Setting directly with parentheses\n",
    "toy_categories = (\"vehicles\", \"robots\", \"toys\")\n",
    "print(\"My categories are:\", toy_categories)\n",
    "print(\"type of toy_categories are:\", type(toy_categories))"
   ]
  },
  {
   "cell_type": "markdown",
   "id": "27bb1fcd",
   "metadata": {},
   "source": []
  }
 ],
 "metadata": {
  "kernelspec": {
   "display_name": "Python 3",
   "language": "python",
   "name": "python3"
  },
  "language_info": {
   "codemirror_mode": {
    "name": "ipython",
    "version": 3
   },
   "file_extension": ".py",
   "mimetype": "text/x-python",
   "name": "python",
   "nbconvert_exporter": "python",
   "pygments_lexer": "ipython3",
   "version": "3.12.0"
  }
 },
 "nbformat": 4,
 "nbformat_minor": 5
}
