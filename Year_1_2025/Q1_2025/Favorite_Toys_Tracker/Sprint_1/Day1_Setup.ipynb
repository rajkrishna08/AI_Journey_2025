{
 "cells": [
  {
   "cell_type": "code",
   "execution_count": 2,
   "id": "ef72622c-d883-4219-8a5a-be1cc202a0f7",
   "metadata": {},
   "outputs": [
    {
     "name": "stdout",
     "output_type": "stream",
     "text": [
      "Hello, AI Journey!\n",
      "My name is Raj, and I’m starting my journey to become an AI architect on March 20, 2025.\n"
     ]
    }
   ],
   "source": [
    "print(\"Hello, AI Journey!\")\n",
    "name = \"Raj\"\n",
    "print(f\"My name is {name}, and I’m starting my journey to become an AI architect on March 20, 2025.\")"
   ]
  },
  {
   "cell_type": "code",
   "execution_count": 3,
   "id": "e74d8cf8-004e-47c2-8b94-56ff303d3438",
   "metadata": {},
   "outputs": [
    {
     "name": "stdout",
     "output_type": "stream",
     "text": [
      "Hello, AI Journey!\n",
      "My name is Keert, and I’m starting my journey to become an AI architect on March 20, 2025.\n"
     ]
    }
   ],
   "source": [
    "print(\"Hello, AI Journey!\")\n",
    "name = \"Keert\"\n",
    "print(f\"My name is {name}, and I’m starting my journey to become an AI architect on March 20, 2025.\")\n"
   ]
  },
  {
   "cell_type": "code",
   "execution_count": null,
   "id": "b93939ba-12e8-4f7a-a7a4-750c5a8ccfc4",
   "metadata": {},
   "outputs": [
    {
     "name": "stdout",
     "output_type": "stream",
     "text": [
      "NumPy version: 2.2.4\n",
      "Pandas version: 2.2.3\n",
      "Matplotlib version: 3.10.1\n",
      "Seaborn version: 0.13.2\n",
      "SymPy version: 1.13.3\n"
     ]
    }
   ],
   "source": [
    "import numpy as np\n",
    "import pandas as pd\n",
    "import matplotlib\n",
    "import seaborn as sns\n",
    "import sympy\n",
    "print(\"NumPy version:\", np.__version__)\n",
    "print(\"Pandas version:\", pd.__version__)\n",
    "print(\"Matplotlib version:\", matplotlib.__version__)\n",
    "print(\"Seaborn version:\", sns.__version__)\n",
    "print(\"SymPy version:\", sympy.__version__)"
   ]
  },
  {
   "cell_type": "code",
   "execution_count": 1,
   "id": "07f03f07-cadc-40bf-8ab3-d2b34f51082e",
   "metadata": {},
   "outputs": [
    {
     "name": "stdout",
     "output_type": "stream",
     "text": [
      "NumPy version: 2.2.4\n",
      "Pandas version: 2.2.3\n",
      "Matplotlib version: 3.10.1\n",
      "Seaborn version: 0.13.2\n",
      "SymPy version: 1.13.3\n"
     ]
    }
   ],
   "source": [
    "import numpy as np\n",
    "import pandas as pd\n",
    "import matplotlib\n",
    "import seaborn as sns\n",
    "import sympy\n",
    "print(\"NumPy version:\", np.__version__)\n",
    "print(\"Pandas version:\", pd.__version__)\n",
    "print(\"Matplotlib version:\", matplotlib.__version__)\n",
    "print(\"Seaborn version:\", sns.__version__)\n",
    "print(\"SymPy version:\", sympy.__version__)"
   ]
  },
  {
   "cell_type": "code",
   "execution_count": 2,
   "id": "435fd31f",
   "metadata": {},
   "outputs": [
    {
     "ename": "ModuleNotFoundError",
     "evalue": "No module named 'psycopg2'",
     "output_type": "error",
     "traceback": [
      "\u001b[31m---------------------------------------------------------------------------\u001b[39m",
      "\u001b[31mModuleNotFoundError\u001b[39m                       Traceback (most recent call last)",
      "\u001b[36mCell\u001b[39m\u001b[36m \u001b[39m\u001b[32mIn[2]\u001b[39m\u001b[32m, line 1\u001b[39m\n\u001b[32m----> \u001b[39m\u001b[32m1\u001b[39m \u001b[38;5;28;01mimport\u001b[39;00m\u001b[38;5;250m \u001b[39m\u001b[34;01mpsycopg2\u001b[39;00m\n\u001b[32m      2\u001b[39m conn = psycopg2.connect(dbname=\u001b[33m\"\u001b[39m\u001b[33mpostgres\u001b[39m\u001b[33m\"\u001b[39m, user=\u001b[33m\"\u001b[39m\u001b[33mpostgres\u001b[39m\u001b[33m\"\u001b[39m, password=\u001b[33m\"\u001b[39m\u001b[33myour_password\u001b[39m\u001b[33m\"\u001b[39m, host=\u001b[33m\"\u001b[39m\u001b[33mlocalhost\u001b[39m\u001b[33m\"\u001b[39m, port=\u001b[33m\"\u001b[39m\u001b[33m5432\u001b[39m\u001b[33m\"\u001b[39m)\n\u001b[32m      3\u001b[39m \u001b[38;5;28mprint\u001b[39m(\u001b[33m\"\u001b[39m\u001b[33mConnected to my filing cabinet!\u001b[39m\u001b[33m\"\u001b[39m)\n",
      "\u001b[31mModuleNotFoundError\u001b[39m: No module named 'psycopg2'"
     ]
    }
   ],
   "source": [
    "import psycopg2\n",
    "conn = psycopg2.connect(dbname=\"postgres\", user=\"postgres\", password=\"your_password\", host=\"localhost\", port=\"5432\")\n",
    "print(\"Connected to my filing cabinet!\")\n",
    "conn.close()"
   ]
  },
  {
   "cell_type": "code",
   "execution_count": 1,
   "id": "d57f57c0-a718-4c67-82de-0694b9c4cbba",
   "metadata": {},
   "outputs": [
    {
     "name": "stdout",
     "output_type": "stream",
     "text": [
      "Hi Krishna\n",
      "I’ll learn 5 things!\n"
     ]
    }
   ],
   "source": [
    "name = \"Krishna\"; print(\"Hi\", name)\n",
    "number = 5; print(\"I’ll learn\", number, \"things!\")"
   ]
  },
  {
   "cell_type": "code",
   "execution_count": 2,
   "id": "bab514d1-3972-4586-84b2-dd237a3ba429",
   "metadata": {},
   "outputs": [
    {
     "name": "stdout",
     "output_type": "stream",
     "text": [
      "5\n",
      "John\n"
     ]
    }
   ],
   "source": [
    "x = 5\n",
    "y = \"John\"\n",
    "print(x)\n",
    "print(y)"
   ]
  },
  {
   "cell_type": "code",
   "execution_count": 3,
   "id": "32f6d75c-6d55-487d-ade0-ce0eb1519826",
   "metadata": {},
   "outputs": [
    {
     "name": "stdout",
     "output_type": "stream",
     "text": [
      "Sally\n"
     ]
    }
   ],
   "source": [
    "x = 4       # x is of type int\n",
    "x = \"Sally\" # x is now of type str\n",
    "print(x)"
   ]
  },
  {
   "cell_type": "code",
   "execution_count": 6,
   "id": "53bec437-16bc-41e3-adfa-e6428448f963",
   "metadata": {},
   "outputs": [
    {
     "name": "stdout",
     "output_type": "stream",
     "text": [
      "<class 'int'>\n",
      "4\n",
      "\n"
     ]
    }
   ],
   "source": [
    "x = \"Sally\" # x is now of type str\n",
    "x = 4       # x is of type int\n",
    "print(type(x))\n",
    "print(x)\n",
    "print()"
   ]
  },
  {
   "cell_type": "code",
   "execution_count": 8,
   "id": "c31ce9ea-4be1-439a-9028-6c739dbf790e",
   "metadata": {},
   "outputs": [
    {
     "name": "stdout",
     "output_type": "stream",
     "text": [
      "CAR\n"
     ]
    },
    {
     "ename": "NameError",
     "evalue": "name 'box_name' is not defined",
     "output_type": "error",
     "traceback": [
      "\u001b[31m---------------------------------------------------------------------------\u001b[39m",
      "\u001b[31mNameError\u001b[39m                                 Traceback (most recent call last)",
      "\u001b[36mCell\u001b[39m\u001b[36m \u001b[39m\u001b[32mIn[8]\u001b[39m\u001b[32m, line 3\u001b[39m\n\u001b[32m      1\u001b[39m toy = \u001b[33m\"\u001b[39m\u001b[33mcar\u001b[39m\u001b[33m\"\u001b[39m\n\u001b[32m      2\u001b[39m \u001b[38;5;28mprint\u001b[39m(toy.upper())\n\u001b[32m----> \u001b[39m\u001b[32m3\u001b[39m \u001b[43mbox_name\u001b[49m.trick()\n",
      "\u001b[31mNameError\u001b[39m: name 'box_name' is not defined"
     ]
    }
   ],
   "source": [
    "toy = \"car\"\n",
    "print(toy.upper())\n",
    "box_name.trick()"
   ]
  },
  {
   "cell_type": "code",
   "execution_count": 14,
   "id": "671a79ed-f21c-4001-82af-724fa0d7c96c",
   "metadata": {},
   "outputs": [
    {
     "name": "stdout",
     "output_type": "stream",
     "text": [
      "Krishna\n"
     ]
    }
   ],
   "source": [
    "my_name = \"Krishna\"  # The box \"my_name\" holds a word toy called \"Krishna\"\n",
    "# print(my_name.upper())  # Tell the box to make the word shout\n",
    "# print(message.lower())  # Tell the box to make the words whisper\n",
    "print(my_name.capitalize())  # Tell the box to make the first letter big"
   ]
  },
  {
   "cell_type": "code",
   "execution_count": 20,
   "id": "e25940df-94de-44ae-abcd-d88222fc4dd0",
   "metadata": {},
   "outputs": [
    {
     "name": "stdout",
     "output_type": "stream",
     "text": [
      "HELLO WORLD\n",
      "hello world\n",
      "Hello world\n",
      "hello Python\n",
      "hello world\n",
      "HELLO WORLD\n"
     ]
    }
   ],
   "source": [
    "message = \"hello world\"  # The box \"message\" holds a word toy called \"hello world\"\n",
    "print(message.upper())  # Tell the box to make the words shout\n",
    "print(message.lower())  # Tell the box to make the words whisper\n",
    "print(message.capitalize())  # Tell the box to make the first letter big\n",
    "print(message.replace(\"world\", \"Python\"))  # Swap \"world\" with \"Python\"\n",
    "print(message)  # Look inside the box\n",
    "message = message.upper()  # Put the shouted words back in the box\n",
    "print(message)  # Now the box has: HELLO WORLD"
   ]
  },
  {
   "cell_type": "code",
   "execution_count": 21,
   "id": "8b9d184d-680b-4a33-ac21-49f16503a217",
   "metadata": {},
   "outputs": [
    {
     "name": "stdout",
     "output_type": "stream",
     "text": [
      "Here’s my box: hello world\n",
      "Shout: HELLO WORLD\n",
      "Whisper: hello world\n",
      "Fancy title: Hello world\n",
      "Swap a word: hello Python\n",
      "Box again: hello world\n"
     ]
    }
   ],
   "source": [
    "message = \"hello world\"  # The box \"message\" holds a word toy called \"hello world\"\n",
    "print(\"Here’s my box:\", message)  # Show the box\n",
    "print(\"Shout:\", message.upper())  # Make it shout\n",
    "print(\"Whisper:\", message.lower())  # Make it whisper\n",
    "print(\"Fancy title:\", message.capitalize())  # Make the first letter big\n",
    "print(\"Swap a word:\", message.replace(\"world\", \"Python\"))  # Swap \"world\" with \"Python\"\n",
    "print(\"Box again:\", message)  # Look inside the box again\n"
   ]
  },
  {
   "cell_type": "code",
   "execution_count": 22,
   "id": "5a1a0bfd-a508-41a2-881d-e6d95e44404d",
   "metadata": {},
   "outputs": [
    {
     "name": "stdout",
     "output_type": "stream",
     "text": [
      "['car', 'ball', 'doll', 'teddy']\n"
     ]
    }
   ],
   "source": [
    "toys = [\"car\", \"ball\", \"doll\"]  # A shelf with 3 toys in the box \"toys\"\n",
    "toys.append(\"teddy\")  # Add a teddy bear to the shelf\n",
    "print(toys)  # Look at the shelf"
   ]
  },
  {
   "cell_type": "code",
   "execution_count": 23,
   "id": "1cdcc6ff-c3b7-4e5d-92e2-82868577f963",
   "metadata": {},
   "outputs": [
    {
     "name": "stdout",
     "output_type": "stream",
     "text": [
      "4\n"
     ]
    }
   ],
   "source": [
    "how_many = len(toys)  # Count the toys\n",
    "print(how_many)  # Show the number"
   ]
  },
  {
   "cell_type": "code",
   "execution_count": 24,
   "id": "16406638-20d1-4df9-aad8-fd08bb7adeec",
   "metadata": {},
   "outputs": [
    {
     "name": "stdout",
     "output_type": "stream",
     "text": [
      "My shelf: ['car', 'ball', 'doll']\n",
      "After adding teddy: ['car', 'ball', 'doll', 'teddy']\n",
      "After taking ball away: ['car', 'doll', 'teddy']\n",
      "How many toys I have: 3\n"
     ]
    }
   ],
   "source": [
    "toys = [\"car\", \"ball\", \"doll\"]  # A shelf with 3 toys in the box \"toys\"\n",
    "print(\"My shelf:\", toys)  # Show the shelf\n",
    "toys.append(\"teddy\")  # Add a teddy bear\n",
    "print(\"After adding teddy:\", toys)  # Show the shelf again\n",
    "toys.remove(\"ball\")  # Take the ball away\n",
    "print(\"After taking ball away:\", toys)  # Show the shelf again\n",
    "print(\"How many toys I have:\", len(toys))  # Count the toys"
   ]
  },
  {
   "cell_type": "code",
   "execution_count": 27,
   "id": "94bdfe49-4f54-4934-8a53-11c57cff2fb0",
   "metadata": {},
   "outputs": [
    {
     "name": "stdout",
     "output_type": "stream",
     "text": [
      "3 3 3.0\n"
     ]
    }
   ],
   "source": [
    "x = str(3)    # x will be '3'\n",
    "y = int(3)    # y will be 3\n",
    "z = float(3)  # z will be 3.0\n",
    "print(x,y,z)"
   ]
  },
  {
   "cell_type": "code",
   "execution_count": 31,
   "id": "c6f72f96-7a3e-422a-b354-65dbb260d26a",
   "metadata": {},
   "outputs": [
    {
     "name": "stdout",
     "output_type": "stream",
     "text": [
      "it is: <class 'int'>\n",
      "it is: <class 'str'>\n"
     ]
    }
   ],
   "source": [
    "x = 5\n",
    "y = 'john'\n",
    "print(\"it is:\", type(x))\n",
    "print(\"it is:\", type(y))"
   ]
  },
  {
   "cell_type": "code",
   "execution_count": 32,
   "id": "769f099c-bc59-4ac6-b43b-8c8eb93efc88",
   "metadata": {},
   "outputs": [
    {
     "name": "stdout",
     "output_type": "stream",
     "text": [
      "ornage\n",
      "apple\n",
      "banana\n"
     ]
    }
   ],
   "source": [
    "x, y, z = \"ornage\", \"apple\", \"banana\"\n",
    "print(x)\n",
    "print(y)\n",
    "print(z)"
   ]
  },
  {
   "cell_type": "code",
   "execution_count": 33,
   "id": "ef763e34-243a-4005-9e32-eb4c4c13194e",
   "metadata": {},
   "outputs": [
    {
     "name": "stdout",
     "output_type": "stream",
     "text": [
      "ornage\n",
      "ornage\n",
      "ornage\n"
     ]
    }
   ],
   "source": [
    "x=y=z = \"ornage\"\n",
    "print(x)\n",
    "print(y)\n",
    "print(z)"
   ]
  },
  {
   "cell_type": "code",
   "execution_count": 35,
   "id": "6985ce9c-5d44-428a-85f3-28d5e3e2906d",
   "metadata": {},
   "outputs": [
    {
     "name": "stdout",
     "output_type": "stream",
     "text": [
      "apple\n",
      "banana\n",
      "pineapple\n"
     ]
    }
   ],
   "source": [
    "fruits = [\"apple\", \"banana\", \"pineapple\"]\n",
    "x, y, z = fruits\n",
    "print(x)\n",
    "print(y)\n",
    "print(z)"
   ]
  },
  {
   "cell_type": "code",
   "execution_count": 36,
   "id": "af6bb4e7-36af-45f3-bc68-bf37361f1891",
   "metadata": {},
   "outputs": [
    {
     "name": "stdout",
     "output_type": "stream",
     "text": [
      "python is awesome\n"
     ]
    }
   ],
   "source": [
    "x = \"python is awesome\"\n",
    "print(x)"
   ]
  },
  {
   "cell_type": "code",
   "execution_count": 37,
   "id": "2ecc4e93-9b3d-4dc0-b1a5-f193f917a80b",
   "metadata": {},
   "outputs": [
    {
     "name": "stdout",
     "output_type": "stream",
     "text": [
      "pythonisawesome\n"
     ]
    }
   ],
   "source": [
    "x = \"python\"\n",
    "y = \"is\"\n",
    "z = \"awesome\"\n",
    "print(x+y+z)"
   ]
  },
  {
   "cell_type": "code",
   "execution_count": null,
   "id": "311a8cda-d4a3-4003-a2a9-d09434052b6a",
   "metadata": {},
   "outputs": [],
   "source": []
  }
 ],
 "metadata": {
  "kernelspec": {
   "display_name": "Python 3 (ipykernel)",
   "language": "python",
   "name": "python3"
  },
  "language_info": {
   "codemirror_mode": {
    "name": "ipython",
    "version": 3
   },
   "file_extension": ".py",
   "mimetype": "text/x-python",
   "name": "python",
   "nbconvert_exporter": "python",
   "pygments_lexer": "ipython3",
   "version": "3.12.0"
  }
 },
 "nbformat": 4,
 "nbformat_minor": 5
}
