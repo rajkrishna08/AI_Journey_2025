{
 "cells": [
  {
   "cell_type": "code",
   "execution_count": 1,
   "id": "746cf5db-32fe-46ca-9cd5-f8470e740f29",
   "metadata": {},
   "outputs": [
    {
     "name": "stdout",
     "output_type": "stream",
     "text": [
      "Welcome to Krishna’s Celestial Toy Shop, where magic meets toys!\n",
      "Welcome to Krishna’s Toy Shop where we have a teddy bear\n",
      "The type of shop_sign is: <class 'str'>\n",
      "The type of toy_name is: <class 'str'>\n",
      "Welcome to Krishna Magic Shop where we have puzzle\n",
      "The type of shop_sign is: <class 'str'>\n",
      "The type of toy_name is: <class 'str'>\n",
      "I have 5 toys in my shop\n",
      "The type of total_toys is: <class 'int'>\n",
      "I have 5 toys in my shop\n",
      "The type of total_toys is: <class 'int'>\n",
      "The total price of my car and robot is $ 14.49\n",
      "The type of total_price is: <class 'float'>\n",
      "The total price of my car and robot is $ 14.49\n",
      "The type of total_price is: <class 'float'>\n",
      "My magic toy in the shop is: 1j\n",
      "The type of magic_number is: <class 'complex'>\n",
      "My magic toy in the shop is: 1j\n",
      "The type of magic_number is: <class 'complex'>\n",
      "My shop has these toys: ['car', 'robot', 'ball']\n",
      "The type of toys is: <class 'list'>\n"
     ]
    }
   ],
   "source": [
    "# Welcome to Krishna's Celestial Toy Shop!\n",
    "print(\"Welcome to Krishna’s Celestial Toy Shop, where magic meets toys!\")\n",
    "\n",
    "# Text Type: str\n",
    "# First way: Setting directly\n",
    "shop_sign = \"Krishna’s Toy Shop\"\n",
    "toy_name = \"teddy bear\"\n",
    "print(\"Welcome to\", shop_sign, \"where we have a\", toy_name)\n",
    "print(\"The type of shop_sign is:\", type(shop_sign))\n",
    "print(\"The type of toy_name is:\", type(toy_name))\n",
    "\n",
    "# Second way: Using str() constructor\n",
    "shop_sign = str(\"Krishna Magic Shop\")\n",
    "toy_name = str(\"puzzle\")\n",
    "print(\"Welcome to\", shop_sign, \"where we have\", toy_name)\n",
    "print(\"The type of shop_sign is:\", type(shop_sign))\n",
    "print(\"The type of toy_name is:\", type(toy_name))\n",
    "\n",
    "# Numeric Types: int\n",
    "# First way: Setting directly\n",
    "cars = 3\n",
    "robots = 2\n",
    "total_toys = cars + robots\n",
    "print(\"I have\", total_toys, \"toys in my shop\")\n",
    "print(\"The type of total_toys is:\", type(total_toys))\n",
    "\n",
    "# Second way: Using int() constructor\n",
    "cars = int(3)\n",
    "robots = int(2)\n",
    "total_toys = cars + robots\n",
    "print(\"I have\", total_toys, \"toys in my shop\")\n",
    "print(\"The type of total_toys is:\", type(total_toys))\n",
    "\n",
    "# Numeric Types: float\n",
    "# First way: Setting directly\n",
    "car_price = 5.99\n",
    "robot_price = 8.50\n",
    "total_price = car_price + robot_price\n",
    "print(\"The total price of my car and robot is $\", total_price)\n",
    "print(\"The type of total_price is:\", type(total_price))\n",
    "\n",
    "# Second way: Using float() constructor\n",
    "car_price = float(5.99)\n",
    "robot_price = float(8.50)\n",
    "total_price = car_price + robot_price\n",
    "print(\"The total price of my car and robot is $\", total_price)\n",
    "print(\"The type of total_price is:\", type(total_price))\n",
    "\n",
    "# Numeric Types: complex\n",
    "# First way: Setting directly\n",
    "magic_number = 1j\n",
    "print(\"My magic toy in the shop is:\", magic_number)\n",
    "print(\"The type of magic_number is:\", type(magic_number))\n",
    "\n",
    "# Second way: Using complex() constructor\n",
    "magic_number = complex(1j)\n",
    "print(\"My magic toy in the shop is:\", magic_number)\n",
    "print(\"The type of magic_number is:\", type(magic_number))\n",
    "\n",
    "# Sequence Types: list\n",
    "# First way: Setting directly with square brackets\n",
    "toys = [\"car\", \"robot\", \"ball\"]\n",
    "print(\"My shop has these toys:\", toys)\n",
    "print(\"The type of toys is:\", type(toys))"
   ]
  },
  {
   "cell_type": "code",
   "execution_count": 1,
   "id": "4f43f7bf",
   "metadata": {},
   "outputs": [
    {
     "name": "stdout",
     "output_type": "stream",
     "text": [
      "<class 'int'>\n"
     ]
    }
   ],
   "source": [
    "x = 5\n",
    "print(type(x))"
   ]
  },
  {
   "cell_type": "code",
   "execution_count": 2,
   "id": "52b41cc8",
   "metadata": {},
   "outputs": [
    {
     "name": "stdout",
     "output_type": "stream",
     "text": [
      "I have a toy called: Magic Wand\n",
      "The type of toy_name is: <class 'str'>\n"
     ]
    }
   ],
   "source": [
    "# A string is like a name tag for a toy.\n",
    "toy_name = \"Magic Wand\"\n",
    "print(\"I have a toy called:\", toy_name)\n",
    "print(\"The type of toy_name is:\", type(toy_name))"
   ]
  },
  {
   "cell_type": "code",
   "execution_count": 1,
   "id": "3d1e07d8",
   "metadata": {},
   "outputs": [
    {
     "data": {
      "text/plain": [
       "10"
      ]
     },
     "execution_count": 1,
     "metadata": {},
     "output_type": "execute_result"
    }
   ],
   "source": [
    "5 + 5"
   ]
  },
  {
   "cell_type": "code",
   "execution_count": 1,
   "id": "66d482e7-fbef-457d-80be-2707756decf5",
   "metadata": {},
   "outputs": [
    {
     "data": {
      "text/plain": [
       "8"
      ]
     },
     "execution_count": 1,
     "metadata": {},
     "output_type": "execute_result"
    }
   ],
   "source": [
    "6 + 2"
   ]
  },
  {
   "cell_type": "code",
   "execution_count": 2,
   "id": "baf78784",
   "metadata": {},
   "outputs": [
    {
     "name": "stdout",
     "output_type": "stream",
     "text": [
      "Unique toy types: {'doll', 'wand'}\n",
      "The type of toy_types is: <class 'set'>\n"
     ]
    }
   ],
   "source": [
    "# 1. Set (set)\n",
    "# A set is a bag of unique toy types.\n",
    "toy_types = {\"wand\", \"doll\", \"wand\"}\n",
    "print(\"Unique toy types:\", toy_types)\n",
    "print(\"The type of toy_types is:\", type(toy_types))"
   ]
  },
  {
   "cell_type": "code",
   "execution_count": 3,
   "id": "57e07488",
   "metadata": {},
   "outputs": [
    {
     "name": "stdout",
     "output_type": "stream",
     "text": [
      "Toy name: teddy bear\n",
      "Type of toy_name: <class 'str'>\n"
     ]
    }
   ],
   "source": [
    "# Day 9: Data Types Training for Favorite Toys Tracker\n",
    "\n",
    "# We'll explore all 13 Python built-in data types, using both assignment and constructor functions,\n",
    "# and check their types with type(). Each example is tailored to the Favorite Toys Tracker project.\n",
    "\n",
    "# Text Type: str\n",
    "# Example 1: Assignment\n",
    "toy_name = \"teddy bear\"\n",
    "print(\"Toy name:\", toy_name)\n",
    "print(\"Type of toy_name:\", type(toy_name))"
   ]
  },
  {
   "cell_type": "code",
   "execution_count": 4,
   "id": "3d75488e",
   "metadata": {},
   "outputs": [
    {
     "name": "stdout",
     "output_type": "stream",
     "text": [
      "Toy name: teddy bear\n",
      "Type of toy_name: <class 'str'>\n"
     ]
    }
   ],
   "source": [
    "# 1. Text Type: str\n",
    "toy_name = \"teddy bear\"\n",
    "print(\"Toy name:\", toy_name)\n",
    "print(\"Type of toy_name:\", type(toy_name))"
   ]
  },
  {
   "cell_type": "code",
   "execution_count": 5,
   "id": "18ab47dd",
   "metadata": {},
   "outputs": [
    {
     "name": "stdout",
     "output_type": "stream",
     "text": [
      "Type of Toy category: <class 'str'>\n"
     ]
    }
   ],
   "source": [
    "# Example 2: Constructor\n",
    "toy_catergory = str(\"dolls\")\n",
    "print(\"Type of Toy category:\", type(toy_catergory))"
   ]
  },
  {
   "cell_type": "code",
   "execution_count": 6,
   "id": "edb36ce6",
   "metadata": {},
   "outputs": [
    {
     "name": "stdout",
     "output_type": "stream",
     "text": [
      "I have 4 toy cars in my tracker!\n",
      "The type of car_quantity is: <class 'int'>\n"
     ]
    }
   ],
   "source": [
    "# Tracking the number of toy cars in the Favorite Toys Tracker\n",
    "car_quantity = 4\n",
    "\n",
    "# Show the quantity and check its type\n",
    "print(\"I have\", car_quantity, \"toy cars in my tracker!\")\n",
    "print(\"The type of car_quantity is:\", type(car_quantity))"
   ]
  },
  {
   "cell_type": "code",
   "execution_count": 7,
   "id": "a6bc7701",
   "metadata": {},
   "outputs": [
    {
     "name": "stdout",
     "output_type": "stream",
     "text": [
      "My favorite toy is a race car !\n",
      "The type of toy_name is: <class 'str'>\n"
     ]
    }
   ],
   "source": [
    "# data_types_training.py\n",
    "# Topic 3: String for Favorite Toys Tracker\n",
    "toy_name = \"race car\"\n",
    "print(\"My favorite toy is a\", toy_name, \"!\")\n",
    "print(\"The type of toy_name is:\", type(toy_name))"
   ]
  },
  {
   "cell_type": "code",
   "execution_count": 8,
   "id": "e1a8307b",
   "metadata": {},
   "outputs": [
    {
     "name": "stdout",
     "output_type": "stream",
     "text": [
      "My favorite toys are: ['race car', 'robot', 'teddy bear']\n",
      "The type of toy_collection is: <class 'list'>\n"
     ]
    }
   ],
   "source": [
    "# Tracking a collection of toy names in the Favorite Toys Tracker\n",
    "toy_collection = [\"race car\", \"robot\", \"teddy bear\"]\n",
    "\n",
    "# Show the collection and check its type\n",
    "print(\"My favorite toys are:\", toy_collection)\n",
    "print(\"The type of toy_collection is:\", type(toy_collection))"
   ]
  },
  {
   "cell_type": "code",
   "execution_count": 9,
   "id": "26cbc0b8",
   "metadata": {},
   "outputs": [
    {
     "name": "stdout",
     "output_type": "stream",
     "text": [
      "My favorite toys are: ['race car', 'robot', 'teddy bear']\n",
      "The type of toy_collection is: <class 'list'>\n"
     ]
    }
   ],
   "source": [
    "# Tracking a collection of toy names in the Favorite Toys Tracker\n",
    "toy_collection = [\"race car\", \"robot\", \"teddy bear\"]\n",
    "\n",
    "# Show the collection and check its type\n",
    "print(\"My favorite toys are:\", toy_collection)\n",
    "print(\"The type of toy_collection is:\", type(toy_collection))"
   ]
  },
  {
   "cell_type": "code",
   "execution_count": 1,
   "id": "a82f29ec",
   "metadata": {},
   "outputs": [
    {
     "data": {
      "text/plain": [
       "9"
      ]
     },
     "execution_count": 1,
     "metadata": {},
     "output_type": "execute_result"
    }
   ],
   "source": [
    "9"
   ]
  },
  {
   "cell_type": "code",
   "execution_count": 2,
   "id": "6751f1be",
   "metadata": {},
   "outputs": [
    {
     "name": "stdout",
     "output_type": "stream",
     "text": [
      "15\n"
     ]
    }
   ],
   "source": [
    "print(10 + 5)"
   ]
  },
  {
   "cell_type": "code",
   "execution_count": 4,
   "id": "3d4dd899",
   "metadata": {},
   "outputs": [
    {
     "name": "stdout",
     "output_type": "stream",
     "text": [
      "6\n"
     ]
    }
   ],
   "source": [
    "x = 3\n",
    "y = 3\n",
    "print(x + y)"
   ]
  },
  {
   "cell_type": "code",
   "execution_count": 8,
   "id": "817d4190",
   "metadata": {},
   "outputs": [
    {
     "name": "stdout",
     "output_type": "stream",
     "text": [
      "1\n"
     ]
    }
   ],
   "source": [
    "x = 5\n",
    "y = 2\n",
    "print(x % y)"
   ]
  },
  {
   "cell_type": "code",
   "execution_count": 12,
   "id": "85dc0321",
   "metadata": {},
   "outputs": [
    {
     "name": "stdout",
     "output_type": "stream",
     "text": [
      "64\n"
     ]
    }
   ],
   "source": [
    "x = 2\n",
    "y = 6\n",
    "print (x ** y)"
   ]
  },
  {
   "cell_type": "code",
   "execution_count": 1,
   "id": "747e7fd3",
   "metadata": {},
   "outputs": [
    {
     "name": "stdout",
     "output_type": "stream",
     "text": [
      "7\n"
     ]
    }
   ],
   "source": [
    "x = 15\n",
    "y = 2\n",
    "print(x // y)"
   ]
  },
  {
   "cell_type": "code",
   "execution_count": null,
   "id": "29484372-5485-4867-9f1f-f3bdc0c7f53d",
   "metadata": {},
   "outputs": [],
   "source": []
  }
 ],
 "metadata": {
  "kernelspec": {
   "display_name": "Python 3 (ipykernel)",
   "language": "python",
   "name": "python3"
  },
  "language_info": {
   "codemirror_mode": {
    "name": "ipython",
    "version": 3
   },
   "file_extension": ".py",
   "mimetype": "text/x-python",
   "name": "python",
   "nbconvert_exporter": "python",
   "pygments_lexer": "ipython3",
   "version": "3.12.0"
  }
 },
 "nbformat": 4,
 "nbformat_minor": 5
}
