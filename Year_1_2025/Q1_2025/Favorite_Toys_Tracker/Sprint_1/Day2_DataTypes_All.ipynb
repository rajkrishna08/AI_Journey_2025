{
 "cells": [
  {
   "cell_type": "code",
   "execution_count": null,
   "id": "84101560",
   "metadata": {},
   "outputs": [
    {
     "name": "stdout",
     "output_type": "stream",
     "text": [
      "Welcome to Krishna’s Celestial Toy Shop, where magic meets toys!\n",
      "Welcome to Krishna’s Toy Shop where we have a teddy bear\n",
      "The type of shop_sign is: <class 'str'>\n",
      "The type of toy_name is: <class 'str'>\n",
      "Welcome to Krishna Magic Shop where we have puzzle\n",
      "The type of shop_sign is: <class 'str'>\n",
      "The type of toy_name is: <class 'str'>\n",
      "I have 5 toys in my shop\n",
      "The type of total_toys is: <class 'int'>\n",
      "I have 5 toys in my shop\n",
      "The type of total_toys is: <class 'int'>\n",
      "The total price of my car and robot is $ 14.49\n",
      "The type of total_price is: <class 'float'>\n",
      "The total price of my car and robot is $ 14.49\n",
      "The type of total_price is: <class 'float'>\n",
      "My magic toy in the shop is: 1j\n",
      "The type of magic_number is: <class 'complex'>\n",
      "My magic toy in the shop is: 1j\n",
      "The type of magic_number is: <class 'complex'>\n",
      "My shop has these toys: ['car', 'robot', 'ball']\n",
      "The type of toys is: <class 'list'>\n"
     ]
    },
    {
     "ename": "",
     "evalue": "",
     "output_type": "error",
     "traceback": [
      "\u001b[1;31mThe Kernel crashed while executing code in the current cell or a previous cell. \n",
      "\u001b[1;31mPlease review the code in the cell(s) to identify a possible cause of the failure. \n",
      "\u001b[1;31mClick <a href='https://aka.ms/vscodeJupyterKernelCrash'>here</a> for more info. \n",
      "\u001b[1;31mView Jupyter <a href='command:jupyter.viewOutput'>log</a> for further details."
     ]
    }
   ],
   "source": [
    "# Welcome to Krishna's Celestial Toy Shop!\n",
    "print(\"Welcome to Krishna’s Celestial Toy Shop, where magic meets toys!\")\n",
    "\n",
    "# Text Type: str\n",
    "# First way: Setting directly\n",
    "shop_sign = \"Krishna’s Toy Shop\"\n",
    "toy_name = \"teddy bear\"\n",
    "print(\"Welcome to\", shop_sign, \"where we have a\", toy_name)\n",
    "print(\"The type of shop_sign is:\", type(shop_sign))\n",
    "print(\"The type of toy_name is:\", type(toy_name))\n",
    "\n",
    "# Second way: Using str() constructor\n",
    "shop_sign = str(\"Krishna Magic Shop\")\n",
    "toy_name = str(\"puzzle\")\n",
    "print(\"Welcome to\", shop_sign, \"where we have\", toy_name)\n",
    "print(\"The type of shop_sign is:\", type(shop_sign))\n",
    "print(\"The type of toy_name is:\", type(toy_name))\n",
    "\n",
    "# Numeric Types: int\n",
    "# First way: Setting directly\n",
    "cars = 3\n",
    "robots = 2\n",
    "total_toys = cars + robots\n",
    "print(\"I have\", total_toys, \"toys in my shop\")\n",
    "print(\"The type of total_toys is:\", type(total_toys))\n",
    "\n",
    "# Second way: Using int() constructor\n",
    "cars = int(3)\n",
    "robots = int(2)\n",
    "total_toys = cars + robots\n",
    "print(\"I have\", total_toys, \"toys in my shop\")\n",
    "print(\"The type of total_toys is:\", type(total_toys))\n",
    "\n",
    "# Numeric Types: float\n",
    "# First way: Setting directly\n",
    "car_price = 5.99\n",
    "robot_price = 8.50\n",
    "total_price = car_price + robot_price\n",
    "print(\"The total price of my car and robot is $\", total_price)\n",
    "print(\"The type of total_price is:\", type(total_price))\n",
    "\n",
    "# Second way: Using float() constructor\n",
    "car_price = float(5.99)\n",
    "robot_price = float(8.50)\n",
    "total_price = car_price + robot_price\n",
    "print(\"The total price of my car and robot is $\", total_price)\n",
    "print(\"The type of total_price is:\", type(total_price))\n",
    "\n",
    "# Numeric Types: complex\n",
    "# First way: Setting directly\n",
    "magic_number = 1j\n",
    "print(\"My magic toy in the shop is:\", magic_number)\n",
    "print(\"The type of magic_number is:\", type(magic_number))\n",
    "\n",
    "# Second way: Using complex() constructor\n",
    "magic_number = complex(1j)\n",
    "print(\"My magic toy in the shop is:\", magic_number)\n",
    "print(\"The type of magic_number is:\", type(magic_number))\n",
    "\n",
    "# Sequence Types: list\n",
    "# First way: Setting directly with square brackets\n",
    "toys = [\"car\", \"robot\", \"ball\"]\n",
    "print(\"My shop has these toys:\", toys)\n",
    "print(\"The type of toys is:\", type(toys))"
   ]
  },
  {
   "cell_type": "code",
   "execution_count": null,
   "id": "1c00af61",
   "metadata": {},
   "outputs": [],
   "source": [
    "import os\n",
    "print(os.environ[\"PATH\"])"
   ]
  },
  {
   "cell_type": "code",
   "execution_count": null,
   "id": "fd5f0597",
   "metadata": {},
   "outputs": [
    {
     "ename": "SyntaxError",
     "evalue": "unexpected character after line continuation character (2629227141.py, line 1)",
     "output_type": "error",
     "traceback": [
      "  \u001b[36mCell\u001b[39m\u001b[36m \u001b[39m\u001b[32mIn[4]\u001b[39m\u001b[32m, line 1\u001b[39m\n",
      "\u001b[31m    \u001b[39m\u001b[31mC:\\Users\\keert\\.jupyter\\jupyter_lab_config.py\u001b[39m\n",
      "       ^\n",
      "\u001b[31mSyntaxError\u001b[39m\u001b[31m:\u001b[39m unexpected character after line continuation character\n"
     ]
    }
   ],
   "source": [
    "C:\\Users\\keert\\.jupyter\\jupyter_lab_config.py"
   ]
  },
  {
   "cell_type": "code",
   "execution_count": null,
   "id": "3fa2911d",
   "metadata": {},
   "outputs": [
    {
     "ename": "SyntaxError",
     "evalue": "unexpected character after line continuation character (2629227141.py, line 1)",
     "output_type": "error",
     "traceback": [
      "  \u001b[36mCell\u001b[39m\u001b[36m \u001b[39m\u001b[32mIn[4]\u001b[39m\u001b[32m, line 1\u001b[39m\n",
      "\u001b[31m    \u001b[39m\u001b[31mC:\\Users\\keert\\.jupyter\\jupyter_lab_config.py\u001b[39m\n",
      "       ^\n",
      "\u001b[31mSyntaxError\u001b[39m\u001b[31m:\u001b[39m unexpected character after line continuation character\n"
     ]
    }
   ],
   "source": [
    "C:\\Users\\keert\\.jupyter\\jupyter_lab_config.py"
   ]
  },
  {
   "cell_type": "code",
   "execution_count": 2,
   "id": "6e7af33a",
   "metadata": {},
   "outputs": [
    {
     "name": "stdout",
     "output_type": "stream",
     "text": [
      "c:\\Users\\keert\\AppData\\Local\\Programs\\Python\\Python312;c:\\Users\\keert\\AppData\\Roaming\\Python\\Python312\\Scripts;C:\\WINDOWS\\system32;C:\\WINDOWS;C:\\WINDOWS\\System32\\Wbem;C:\\WINDOWS\\System32\\WindowsPowerShell\\v1.0\\;C:\\WINDOWS\\System32\\OpenSSH\\;C:\\Program Files\\dotnet\\;C:\\Program Files\\PostgreSQL\\16\\bin;C:\\Program Files\\Git\\cmd;C:\\ProgramData\\ComposerSetup\\bin;\"C:\\Program Files\\nodejs\\\";C:\\php-8.3.18;C:\\Users\\keert\\AppData\\Local\\Programs\\Python\\Python312\\Scripts\\;C:\\Users\\keert\\AppData\\Local\\Programs\\Python\\Python312\\;C:\\Users\\keert\\AppData\\Local\\Microsoft\\WindowsApps;C:\\Users\\keert\\AppData\\Local\\Programs\\Microsoft VS Code\\bin;C:\\Users\\keert\\AppData\\Local\\Programs\\cursor\\resources\\app\\bin;C:\\Users\\keert\\AppData\\Roaming\\Composer\\vendor\\bin;C:\\Users\\keert\\AppData\\Roaming\\npm;\"C:\\Program Files\\nodejs\\\";;C:\\WINDOWS\\system32;C:\\WINDOWS;C:\\WINDOWS\\System32\\Wbem;C:\\WINDOWS\\System32\\WindowsPowerShell\\v1.0\\;C:\\WINDOWS\\System32\\OpenSSH\\;C:\\Program Files\\dotnet\\;C:\\Program Files\\PostgreSQL\\16\\bin;C:\\Program Files\\Git\\cmd;C:\\ProgramData\\ComposerSetup\\bin;\"C:\\Program Files\\nodejs\\\";C:\\php-8.3.18;C:\\Users\\keert\\AppData\\Local\\Programs\\Python\\Python312\\Scripts\\;C:\\Users\\keert\\AppData\\Local\\Programs\\Python\\Python312\\;C:\\Users\\keert\\AppData\\Local\\Microsoft\\WindowsApps;C:\\Users\\keert\\AppData\\Local\\Programs\\Microsoft VS Code\\bin;C:\\Users\\keert\\AppData\\Local\\Programs\\cursor\\resources\\app\\bin;C:\\Users\\keert\\AppData\\Roaming\\Composer\\vendor\\bin;C:\\Users\\keert\\AppData\\Roaming\\npm;\"C:\\Program Files\\nodejs\\\";\n"
     ]
    }
   ],
   "source": [
    "import os\n",
    "os.environ[\"PATH\"] = os.environ[\"PATH\"].replace(\"C:\\\\Program Files\\\\nodejs\\\\\", '\"C:\\\\Program Files\\\\nodejs\\\\\"')\n",
    "print(os.environ[\"PATH\"])"
   ]
  },
  {
   "cell_type": "code",
   "execution_count": 3,
   "id": "51a658c3",
   "metadata": {},
   "outputs": [
    {
     "name": "stdout",
     "output_type": "stream",
     "text": [
      "npm version: \n",
      "Error (if any): '\\\"C:\\Program Files\\nodejs\\npm.cmd\\\"' is not recognized as an internal or external command,\n",
      "operable program or batch file.\n",
      "\n"
     ]
    }
   ],
   "source": [
    "import subprocess\n",
    "result = subprocess.run(['cmd', '/c', '\"C:\\\\Program Files\\\\nodejs\\\\npm.cmd\"', '--version'], capture_output=True, text=True)\n",
    "print(\"npm version:\", result.stdout)\n",
    "print(\"Error (if any):\", result.stderr)"
   ]
  },
  {
   "cell_type": "code",
   "execution_count": 4,
   "id": "1bc6b00e",
   "metadata": {},
   "outputs": [
    {
     "ename": "SyntaxError",
     "evalue": "unexpected character after line continuation character (2629227141.py, line 1)",
     "output_type": "error",
     "traceback": [
      "  \u001b[36mCell\u001b[39m\u001b[36m \u001b[39m\u001b[32mIn[4]\u001b[39m\u001b[32m, line 1\u001b[39m\n\u001b[31m    \u001b[39m\u001b[31mC:\\Users\\keert\\.jupyter\\jupyter_lab_config.py\u001b[39m\n       ^\n\u001b[31mSyntaxError\u001b[39m\u001b[31m:\u001b[39m unexpected character after line continuation character\n"
     ]
    }
   ],
   "source": [
    "C:\\Users\\keert\\.jupyter\\jupyter_lab_config.py"
   ]
  },
  {
   "cell_type": "code",
   "execution_count": 5,
   "id": "d713e7bb",
   "metadata": {},
   "outputs": [
    {
     "ename": "NameError",
     "evalue": "name 'c' is not defined",
     "output_type": "error",
     "traceback": [
      "\u001b[31m---------------------------------------------------------------------------\u001b[39m",
      "\u001b[31mNameError\u001b[39m                                 Traceback (most recent call last)",
      "\u001b[36mCell\u001b[39m\u001b[36m \u001b[39m\u001b[32mIn[5]\u001b[39m\u001b[32m, line 1\u001b[39m\n\u001b[32m----> \u001b[39m\u001b[32m1\u001b[39m \u001b[43mc\u001b[49m.ServerApp.jpserver_extensions = {\n\u001b[32m      2\u001b[39m     \u001b[33m'\u001b[39m\u001b[33mjupyterlab\u001b[39m\u001b[33m'\u001b[39m: \u001b[38;5;28;01mTrue\u001b[39;00m,\n\u001b[32m      3\u001b[39m }\n\u001b[32m      4\u001b[39m c.JupyterLabApp.node_cmd = \u001b[33m'\u001b[39m\u001b[33mcmd\u001b[39m\u001b[33m'\u001b[39m\n\u001b[32m      5\u001b[39m c.JupyterLabApp.node_args = [\u001b[33m'\u001b[39m\u001b[33m/c\u001b[39m\u001b[33m'\u001b[39m, \u001b[33m'\u001b[39m\u001b[33m\"\u001b[39m\u001b[33mC:\u001b[39m\u001b[38;5;130;01m\\\\\u001b[39;00m\u001b[33mProgram Files\u001b[39m\u001b[38;5;130;01m\\\\\u001b[39;00m\u001b[33mnodejs\u001b[39m\u001b[38;5;130;01m\\\\\u001b[39;00m\u001b[33mnpm.cmd\u001b[39m\u001b[33m\"\u001b[39m\u001b[33m'\u001b[39m]\n",
      "\u001b[31mNameError\u001b[39m: name 'c' is not defined"
     ]
    }
   ],
   "source": [
    "c.ServerApp.jpserver_extensions = {\n",
    "    'jupyterlab': True,\n",
    "}\n",
    "c.JupyterLabApp.node_cmd = 'cmd'\n",
    "c.JupyterLabApp.node_args = ['/c', '\"C:\\\\Program Files\\\\nodejs\\\\npm.cmd\"']"
   ]
  },
  {
   "cell_type": "code",
   "execution_count": null,
   "id": "41e64587",
   "metadata": {},
   "outputs": [],
   "source": []
  }
 ],
 "metadata": {
  "kernelspec": {
   "display_name": "Python 3",
   "language": "python",
   "name": "python3"
  },
  "language_info": {
   "codemirror_mode": {
    "name": "ipython",
    "version": 3
   },
   "file_extension": ".py",
   "mimetype": "text/x-python",
   "name": "python",
   "nbconvert_exporter": "python",
   "pygments_lexer": "ipython3",
   "version": "3.12.0"
  }
 },
 "nbformat": 4,
 "nbformat_minor": 5
}
