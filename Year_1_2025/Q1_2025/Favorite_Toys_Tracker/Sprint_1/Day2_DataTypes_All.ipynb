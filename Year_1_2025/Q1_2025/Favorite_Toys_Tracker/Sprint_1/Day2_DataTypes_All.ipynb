{
 "cells": [
  {
   "cell_type": "code",
   "execution_count": 1,
   "id": "ace23165-c558-4b26-8fa9-36484309dc5a",
   "metadata": {},
   "outputs": [
    {
     "name": "stdout",
     "output_type": "stream",
     "text": [
      "Welcome to Krishna’s Celestial Toy Shop, where magic meets toys!\n"
     ]
    }
   ],
   "source": [
    "# Welcome to Krishna's Celestial Toy Shop!\n",
    "print(\"Welcome to Krishna’s Celestial Toy Shop, where magic meets toys!\")"
   ]
  },
  {
   "cell_type": "code",
   "execution_count": 2,
   "id": "be43beb7-71c5-4dd2-a408-f8ef8d27fbe5",
   "metadata": {},
   "outputs": [
    {
     "name": "stdout",
     "output_type": "stream",
     "text": [
      "Welcome to Krishna’s Toy Shop where we have a teddy bear\n",
      "The type of shop_sign is: <class 'str'>\n",
      "The type of toy_name is: <class 'str'>\n",
      "Welcome to Krishna Magic Shop where we have puzzle\n",
      "The type of shop_sign is: <class 'str'>\n",
      "The type of toy_name is: <class 'str'>\n"
     ]
    }
   ],
   "source": [
    "# Text Type: str\n",
    "# First way: Setting directly\n",
    "shop_sign = \"Krishna’s Toy Shop\"\n",
    "toy_name = \"teddy bear\"\n",
    "print(\"Welcome to\", shop_sign, \"where we have a\", toy_name)\n",
    "print(\"The type of shop_sign is:\", type(shop_sign))\n",
    "print(\"The type of toy_name is:\", type(toy_name))\n",
    "\n",
    "# Second way: Using str() constructor\n",
    "shop_sign = str(\"Krishna Magic Shop\")\n",
    "toy_name = str(\"puzzle\")\n",
    "print(\"Welcome to\", shop_sign, \"where we have\", toy_name)\n",
    "print(\"The type of shop_sign is:\", type(shop_sign))\n",
    "print(\"The type of toy_name is:\", type(toy_name))"
   ]
  },
  {
   "cell_type": "code",
   "execution_count": 3,
   "id": "97e0b4d5-6d11-45fd-a7c7-9dba04f994a2",
   "metadata": {},
   "outputs": [
    {
     "name": "stdout",
     "output_type": "stream",
     "text": [
      "I have 5 toys in my shop\n",
      "The type of total_toys is: <class 'int'>\n",
      "I have 5 toys in my shop\n",
      "The type of total_toys is: <class 'int'>\n",
      "The total price of my car and robot is $ 14.49\n",
      "The type of total_price is: <class 'float'>\n",
      "The total price of my car and robot is $ 14.49\n",
      "The type of total_price is: <class 'float'>\n",
      "My magic toy in the shop is: 1j\n",
      "The type of magic_number is: <class 'complex'>\n",
      "My magic toy in the shop is: 1j\n",
      "The type of magic_number is: <class 'complex'>\n"
     ]
    }
   ],
   "source": [
    "# Numeric Types: int\n",
    "# First way: Setting directly\n",
    "cars = 3\n",
    "robots = 2\n",
    "total_toys = cars + robots\n",
    "print(\"I have\", total_toys, \"toys in my shop\")\n",
    "print(\"The type of total_toys is:\", type(total_toys))\n",
    "\n",
    "# Second way: Using int() constructor\n",
    "cars = int(3)\n",
    "robots = int(2)\n",
    "total_toys = cars + robots\n",
    "print(\"I have\", total_toys, \"toys in my shop\")\n",
    "print(\"The type of total_toys is:\", type(total_toys))\n",
    "\n",
    "# Numeric Types: float\n",
    "# First way: Setting directly\n",
    "car_price = 5.99\n",
    "robot_price = 8.50\n",
    "total_price = car_price + robot_price\n",
    "print(\"The total price of my car and robot is $\", total_price)\n",
    "print(\"The type of total_price is:\", type(total_price))\n",
    "\n",
    "# Second way: Using float() constructor\n",
    "car_price = float(5.99)\n",
    "robot_price = float(8.50)\n",
    "total_price = car_price + robot_price\n",
    "print(\"The total price of my car and robot is $\", total_price)\n",
    "print(\"The type of total_price is:\", type(total_price))\n",
    "\n",
    "# Numeric Types: complex\n",
    "# First way: Setting directly\n",
    "magic_number = 1j\n",
    "print(\"My magic toy in the shop is:\", magic_number)\n",
    "print(\"The type of magic_number is:\", type(magic_number))\n",
    "\n",
    "# Second way: Using complex() constructor\n",
    "magic_number = complex(1j)\n",
    "print(\"My magic toy in the shop is:\", magic_number)\n",
    "print(\"The type of magic_number is:\", type(magic_number))"
   ]
  },
  {
   "cell_type": "code",
   "execution_count": 4,
   "id": "ddb35332-e220-44c4-a56f-735dbede5475",
   "metadata": {},
   "outputs": [
    {
     "name": "stdout",
     "output_type": "stream",
     "text": [
      "My shop has these toys: ['car', 'robot', 'ball']\n",
      "The type of toys is: <class 'list'>\n",
      "Now my shop has these toys: ['car', 'robot', 'ball', 'doll']\n",
      "The type of toys is: <class 'list'>\n",
      "My toy categories are: ('Vehicles', 'Robots', 'Dolls')\n",
      "The type of toy categories is: <class 'tuple'>\n",
      "My toy categories are: ('Vehicles', 'Robots', 'Dolls')\n",
      "The type of toy categories is: <class 'tuple'>\n",
      "My toy boxes are numbered: [0, 1, 2, 3, 4, 5]\n",
      "The type of toy boxes is: <class 'range'>\n"
     ]
    }
   ],
   "source": [
    "# Sequence Types: list\n",
    "# First way: Setting directly with square brackets\n",
    "toys = [\"car\", \"robot\", \"ball\"]\n",
    "print(\"My shop has these toys:\", toys)\n",
    "print(\"The type of toys is:\", type(toys))\n",
    "\n",
    "# Second way: Using list() constructor\n",
    "toys = list((\"car\", \"robot\", \"ball\", \"doll\"))\n",
    "print(\"Now my shop has these toys:\", toys)\n",
    "print(\"The type of toys is:\", type(toys))\n",
    "\n",
    "# Sequence Types: tuple\n",
    "# First way: Setting directly with parentheses\n",
    "toy_categories = (\"Vehicles\", \"Robots\", \"Dolls\")\n",
    "print(\"My toy categories are:\", toy_categories)\n",
    "print(\"The type of toy categories is:\", type(toy_categories))\n",
    "\n",
    "# Second way: Using tuple() constructor\n",
    "toy_categories = tuple((\"Vehicles\", \"Robots\", \"Dolls\"))\n",
    "print(\"My toy categories are:\", toy_categories)\n",
    "print(\"The type of toy categories is:\", type(toy_categories))\n",
    "\n",
    "# Sequence Types: range\n",
    "# Setting with range() constructor (only one way)\n",
    "toy_boxes = range(6)\n",
    "print(\"My toy boxes are numbered:\", list(toy_boxes))\n",
    "print(\"The type of toy boxes is:\", type(toy_boxes))"
   ]
  },
  {
   "cell_type": "code",
   "execution_count": 5,
   "id": "2301bd00-6c3f-4674-86da-64d241eb9863",
   "metadata": {},
   "outputs": [
    {
     "name": "stdout",
     "output_type": "stream",
     "text": [
      "Toy details: {'name': 'car', 'price': 5.99, 'color': 'red'}\n",
      "The type of toy details is: <class 'dict'>\n",
      "Toy details: {'name': 'car', 'price': 5.99, 'color': 'red'}\n",
      "The type of toy details is: <class 'dict'>\n",
      "Unique toy types: {'robot', 'car'}\n",
      "The type of toy types is: <class 'set'>\n",
      "Unique toy types: {'robot', 'car'}\n",
      "The type of toy types is: <class 'set'>\n",
      "Toy brands: frozenset({'Lego', 'Hasbro'})\n",
      "The type of toy brands is: <class 'frozenset'>\n",
      "Toy brands: frozenset({'Lego', 'Hasbro'})\n",
      "The type of toy brands is: <class 'frozenset'>\n"
     ]
    }
   ],
   "source": [
    "# Mapping Type: dict\n",
    "# First way: Setting directly with curly braces\n",
    "toy_details = {\"name\": \"car\", \"price\": 5.99, \"color\": \"red\"}\n",
    "print(\"Toy details:\", toy_details)\n",
    "print(\"The type of toy details is:\", type(toy_details))\n",
    "\n",
    "# Second way: Using dict() constructor\n",
    "toy_details = dict(name=\"car\", price=5.99, color=\"red\")\n",
    "print(\"Toy details:\", toy_details)\n",
    "print(\"The type of toy details is:\", type(toy_details))\n",
    "\n",
    "# Set Types: set\n",
    "# First way: Setting directly with curly braces\n",
    "toy_types = {\"car\", \"robot\", \"car\"}\n",
    "print(\"Unique toy types:\", toy_types)\n",
    "print(\"The type of toy types is:\", type(toy_types))\n",
    "\n",
    "# Second way: Using set() constructor\n",
    "toy_types = set((\"car\", \"robot\", \"car\"))\n",
    "print(\"Unique toy types:\", toy_types)\n",
    "print(\"The type of toy types is:\", type(toy_types))\n",
    "\n",
    "# Set Types: frozenset\n",
    "# First way: Setting with frozenset() constructor\n",
    "toy_brands = frozenset({\"Lego\", \"Hasbro\"})\n",
    "print(\"Toy brands:\", toy_brands)\n",
    "print(\"The type of toy brands is:\", type(toy_brands))\n",
    "\n",
    "# Second way: Using frozenset() with a tuple\n",
    "toy_brands = frozenset((\"Lego\", \"Hasbro\"))\n",
    "print(\"Toy brands:\", toy_brands)\n",
    "print(\"The type of toy brands is:\", type(toy_brands))"
   ]
  },
  {
   "cell_type": "code",
   "execution_count": 6,
   "id": "91b65f6e-1ef3-494f-8c36-195b24f23c98",
   "metadata": {},
   "outputs": [
    {
     "name": "stdout",
     "output_type": "stream",
     "text": [
      "Do I have toys? True\n",
      "The type of has_toys is: <class 'bool'>\n",
      "Is my toy box empty? False\n",
      "The type of toy_box_empty is: <class 'bool'>\n",
      "Is my shop open? True\n",
      "The type of is_open is: <class 'bool'>\n",
      "Toy in bytes: b'Hello'\n",
      "The type of toy_bytes is: <class 'bytes'>\n",
      "Toy in bytes (5 bytes): b'\\x00\\x00\\x00\\x00\\x00'\n",
      "The type of toy_bytes is: <class 'bytes'>\n",
      "Toy in bytearray: bytearray(b'\\x00\\x00\\x00\\x00\\x00')\n",
      "The type of toy_bytearray is: <class 'bytearray'>\n",
      "Toy in bytearray (from string): bytearray(b'Hello')\n",
      "The type of toy_bytearray is: <class 'bytearray'>\n",
      "Toy in memoryview: <memory at 0x00000269B6581780>\n",
      "The type of toy_memoryview is: <class 'memoryview'>\n",
      "Toy in memoryview (from string): <memory at 0x00000269B6581D80>\n",
      "The type of toy_memoryview is: <class 'memoryview'>\n"
     ]
    }
   ],
   "source": [
    "# Boolean Type: bool\n",
    "# First way: Setting directly\n",
    "has_toys = True\n",
    "print(\"Do I have toys?\", has_toys)\n",
    "print(\"The type of has_toys is:\", type(has_toys))\n",
    "\n",
    "# Second way: Using bool() constructor\n",
    "toy_box_empty = bool(0)  # 0 means False\n",
    "print(\"Is my toy box empty?\", toy_box_empty)\n",
    "print(\"The type of toy_box_empty is:\", type(toy_box_empty))\n",
    "\n",
    "# Trying bool() with a non-zero value\n",
    "is_open = bool(5)  # Non-zero means True\n",
    "print(\"Is my shop open?\", is_open)\n",
    "print(\"The type of is_open is:\", type(is_open))\n",
    "\n",
    "# Binary Types: bytes\n",
    "# First way: Setting directly with b prefix\n",
    "toy_bytes = b\"Hello\"\n",
    "print(\"Toy in bytes:\", toy_bytes)\n",
    "print(\"The type of toy_bytes is:\", type(toy_bytes))\n",
    "\n",
    "# Second way: Using bytes() constructor\n",
    "toy_bytes = bytes(5)\n",
    "print(\"Toy in bytes (5 bytes):\", toy_bytes)\n",
    "print(\"The type of toy_bytes is:\", type(toy_bytes))\n",
    "\n",
    "# Binary Types: bytearray\n",
    "# Setting with bytearray() constructor\n",
    "toy_bytearray = bytearray(5)\n",
    "print(\"Toy in bytearray:\", toy_bytearray)\n",
    "print(\"The type of toy_bytearray is:\", type(toy_bytearray))\n",
    "\n",
    "# Using bytearray with a string\n",
    "toy_bytearray = bytearray(b\"Hello\")\n",
    "print(\"Toy in bytearray (from string):\", toy_bytearray)\n",
    "print(\"The type of toy_bytearray is:\", type(toy_bytearray))\n",
    "\n",
    "# Binary Types: memoryview\n",
    "# Setting with memoryview() constructor\n",
    "toy_memoryview = memoryview(bytes(5))\n",
    "print(\"Toy in memoryview:\", toy_memoryview)\n",
    "print(\"The type of toy_memoryview is:\", type(toy_memoryview))\n",
    "\n",
    "# Using memoryview with a string\n",
    "toy_memoryview = memoryview(b\"Hello\")\n",
    "print(\"Toy in memoryview (from string):\", toy_memoryview)\n",
    "print(\"The type of toy_memoryview is:\", type(toy_memoryview))"
   ]
  },
  {
   "cell_type": "code",
   "execution_count": 7,
   "id": "1b8cb330-27b8-4073-8b92-acf13a766065",
   "metadata": {},
   "outputs": [
    {
     "name": "stdout",
     "output_type": "stream",
     "text": [
      "Empty box: None\n",
      "The type of empty box is: <class 'NoneType'>\n"
     ]
    }
   ],
   "source": [
    "# None Type: NoneType\n",
    "# Setting directly (only one way)\n",
    "empty_box = None\n",
    "print(\"Empty box:\", empty_box)\n",
    "print(\"The type of empty box is:\", type(empty_box))"
   ]
  },
  {
   "cell_type": "code",
   "execution_count": 8,
   "id": "b92a0eeb-f3bc-4f6d-baa9-3d3bb06043ca",
   "metadata": {},
   "outputs": [
    {
     "name": "stdout",
     "output_type": "stream",
     "text": [
      "My shop sign: Krishna’s Star Shop Type: <class 'str'>\n",
      "I have 7 toys, each costs $ 12.99 and has a magic code: 2j\n",
      "Types: <class 'int'> <class 'float'> <class 'complex'>\n",
      "My toys: ['doll', 'star', 'moon'] Groups: ('Shiny', 'Glowy') Box numbers: [0, 1, 2]\n",
      "Types: <class 'list'> <class 'tuple'> <class 'range'>\n",
      "Toy info: {'name': 'star', 'glow': 'bright', 'price': 12.99} Type: <class 'dict'>\n",
      "Unique toy kinds: {'doll', 'star'} Fixed kinds: frozenset({'Glitter', 'Sparkle'})\n",
      "Types: <class 'set'> <class 'frozenset'>\n",
      "Do I have stars? True Is my shop closed? False\n",
      "Types: <class 'bool'> <class 'bool'>\n",
      "Star in bytes: b'\\x00\\x00\\x00' Array: bytearray(b'Star') View: <memory at 0x00000269B6581FC0>\n",
      "Types: <class 'bytes'> <class 'bytearray'> <class 'memoryview'>\n",
      "No toy here: None Type: <class 'NoneType'>\n"
     ]
    }
   ],
   "source": [
    "# Krishna's Practice Toy Shop\n",
    "# Text Type: str\n",
    "my_sign = str(\"Krishna’s Star Shop\")\n",
    "print(\"My shop sign:\", my_sign, \"Type:\", type(my_sign))\n",
    "\n",
    "# Numeric Types: int, float, complex\n",
    "toy_count = int(7)\n",
    "toy_price = float(12.99)\n",
    "magic_code = complex(2j)\n",
    "print(\"I have\", toy_count, \"toys, each costs $\", toy_price, \"and has a magic code:\", magic_code)\n",
    "print(\"Types:\", type(toy_count), type(toy_price), type(magic_code))\n",
    "\n",
    "# Sequence Types: list, tuple, range\n",
    "my_toys = list((\"doll\", \"star\", \"moon\"))\n",
    "toy_groups = tuple((\"Shiny\", \"Glowy\"))\n",
    "box_numbers = range(3)\n",
    "print(\"My toys:\", my_toys, \"Groups:\", toy_groups, \"Box numbers:\", list(box_numbers))\n",
    "print(\"Types:\", type(my_toys), type(toy_groups), type(box_numbers))\n",
    "\n",
    "# Mapping Type: dict\n",
    "toy_info = dict(name=\"star\", glow=\"bright\", price=12.99)\n",
    "print(\"Toy info:\", toy_info, \"Type:\", type(toy_info))\n",
    "\n",
    "# Set Types: set, frozenset\n",
    "toy_kinds = set((\"doll\", \"star\", \"doll\"))\n",
    "fixed_kinds = frozenset((\"Sparkle\", \"Glitter\"))\n",
    "print(\"Unique toy kinds:\", toy_kinds, \"Fixed kinds:\", fixed_kinds)\n",
    "print(\"Types:\", type(toy_kinds), type(fixed_kinds))\n",
    "\n",
    "# Boolean Type: bool\n",
    "has_stars = bool(1)\n",
    "is_closed = bool(0)\n",
    "print(\"Do I have stars?\", has_stars, \"Is my shop closed?\", is_closed)\n",
    "print(\"Types:\", type(has_stars), type(is_closed))\n",
    "\n",
    "# Binary Types: bytes, bytearray, memoryview\n",
    "star_bytes = bytes(3)\n",
    "star_array = bytearray(b\"Star\")\n",
    "star_view = memoryview(b\"Star\")\n",
    "print(\"Star in bytes:\", star_bytes, \"Array:\", star_array, \"View:\", star_view)\n",
    "print(\"Types:\", type(star_bytes), type(star_array), type(star_view))\n",
    "\n",
    "# None Type: NoneType\n",
    "no_toy = None\n",
    "print(\"No toy here:\", no_toy, \"Type:\", type(no_toy))"
   ]
  },
  {
   "cell_type": "code",
   "execution_count": null,
   "id": "1c59cb9c-ca79-46fe-b21b-add90a622571",
   "metadata": {},
   "outputs": [],
   "source": []
  }
 ],
 "metadata": {
  "kernelspec": {
   "display_name": "Python 3 (ipykernel)",
   "language": "python",
   "name": "python3"
  },
  "language_info": {
   "codemirror_mode": {
    "name": "ipython",
    "version": 3
   },
   "file_extension": ".py",
   "mimetype": "text/x-python",
   "name": "python",
   "nbconvert_exporter": "python",
   "pygments_lexer": "ipython3",
   "version": "3.12.0"
  }
 },
 "nbformat": 4,
 "nbformat_minor": 5
}
