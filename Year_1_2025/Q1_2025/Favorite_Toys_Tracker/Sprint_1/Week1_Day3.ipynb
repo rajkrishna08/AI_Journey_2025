{
 "cells": [
  {
   "cell_type": "code",
   "execution_count": 1,
   "metadata": {},
   "outputs": [
    {
     "ename": "DuplicateDatabase",
     "evalue": "database \"training_db\" already exists\n",
     "output_type": "error",
     "traceback": [
      "\u001b[31m---------------------------------------------------------------------------\u001b[39m",
      "\u001b[31mDuplicateDatabase\u001b[39m                         Traceback (most recent call last)",
      "\u001b[36mCell\u001b[39m\u001b[36m \u001b[39m\u001b[32mIn[1]\u001b[39m\u001b[32m, line 5\u001b[39m\n\u001b[32m      3\u001b[39m conn.autocommit = \u001b[38;5;28;01mTrue\u001b[39;00m\n\u001b[32m      4\u001b[39m cur = conn.cursor()\n\u001b[32m----> \u001b[39m\u001b[32m5\u001b[39m \u001b[43mcur\u001b[49m\u001b[43m.\u001b[49m\u001b[43mexecute\u001b[49m\u001b[43m(\u001b[49m\u001b[33;43m\"\u001b[39;49m\u001b[33;43mCREATE DATABASE training_db\u001b[39;49m\u001b[33;43m\"\u001b[39;49m\u001b[43m)\u001b[49m\n\u001b[32m      6\u001b[39m conn.close()\n\u001b[32m      7\u001b[39m \u001b[38;5;28mprint\u001b[39m(\u001b[33m\"\u001b[39m\u001b[33mMade a training box!\u001b[39m\u001b[33m\"\u001b[39m)\n",
      "\u001b[31mDuplicateDatabase\u001b[39m: database \"training_db\" already exists\n"
     ]
    }
   ],
   "source": [
    "import psycopg2\n",
    "conn = psycopg2.connect(dbname=\"postgres\", user=\"postgres\", password=\"Qwerty123!!\", host=\"localhost\", port=\"5432\")\n",
    "conn.autocommit = True\n",
    "cur = conn.cursor()\n",
    "cur.execute(\"CREATE DATABASE training_db\")\n",
    "conn.close()\n",
    "print(\"Made a training box!\")"
   ]
  },
  {
   "cell_type": "code",
   "execution_count": 3,
   "metadata": {},
   "outputs": [
    {
     "name": "stdout",
     "output_type": "stream",
     "text": [
      "Cleared the old toys list!\n"
     ]
    }
   ],
   "source": [
    "import psycopg2\n",
    "conn = psycopg2.connect(dbname=\"training_db\", user=\"postgres\", password=\"Qwerty123!!\", host=\"localhost\", port=\"5432\")\n",
    "cur = conn.cursor()\n",
    "cur.execute(\"DROP TABLE IF EXISTS toys\")\n",
    "conn.commit()\n",
    "print(\"Cleared the old toys list!\")\n",
    "conn.close()"
   ]
  },
  {
   "cell_type": "code",
   "execution_count": 4,
   "metadata": {},
   "outputs": [
    {
     "name": "stdout",
     "output_type": "stream",
     "text": [
      "Made a toys list in my big toy box!\n"
     ]
    }
   ],
   "source": [
    "conn = psycopg2.connect(dbname=\"training_db\", user=\"postgres\", password=\"Qwerty123!!\", host=\"localhost\", port=\"5432\")\n",
    "cur = conn.cursor()\n",
    "cur.execute(\"CREATE TABLE toys (id SERIAL PRIMARY KEY, name TEXT)\")\n",
    "conn.commit()\n",
    "print(\"Made a toys list in my big toy box!\")\n",
    "conn.close()"
   ]
  },
  {
   "cell_type": "code",
   "execution_count": null,
   "metadata": {},
   "outputs": [
    {
     "ename": "NameError",
     "evalue": "name 'psycopg2' is not defined",
     "output_type": "error",
     "traceback": [
      "\u001b[31m---------------------------------------------------------------------------\u001b[39m\n",
      "\u001b[31mNameError\u001b[39m                                 Traceback (most recent call last)\n",
      "\u001b[36mCell\u001b[39m\u001b[36m \u001b[39m\u001b[32mIn[1]\u001b[39m\u001b[32m, line 1\u001b[39m\n",
      "\u001b[32m----> \u001b[39m\u001b[32m1\u001b[39m conn = \u001b[43mpsycopg2\u001b[49m.connect(dbname=\u001b[33m\"\u001b[39m\u001b[33mtraining_db\u001b[39m\u001b[33m\"\u001b[39m, user=\u001b[33m\"\u001b[39m\u001b[33mpostgres\u001b[39m\u001b[33m\"\u001b[39m, password=\u001b[33m\"\u001b[39m\u001b[33mQwerty123!!\u001b[39m\u001b[33m\"\u001b[39m, host=\u001b[33m\"\u001b[39m\u001b[33mlocalhost\u001b[39m\u001b[33m\"\u001b[39m, port=\u001b[33m\"\u001b[39m\u001b[33m5432\u001b[39m\u001b[33m\"\u001b[39m)\n",
      "\u001b[32m      2\u001b[39m cur = conn.cursor()\n",
      "\u001b[32m      3\u001b[39m cur.execute(\u001b[33m\"\u001b[39m\u001b[33mCREATE TABLE toys (id SERIAL PRIMARY KEY, name TEXT)\u001b[39m\u001b[33m\"\u001b[39m)\n",
      "\n",
      "\u001b[31mNameError\u001b[39m: name 'psycopg2' is not defined"
     ]
    }
   ],
   "source": [
    "conn = psycopg2.connect(dbname=\"training_db\", user=\"postgres\", password=\"Qwerty123!!\", host=\"localhost\", port=\"5432\")\n",
    "cur = conn.cursor()\n",
    "cur.execute(\"CREATE TABLE toys (id SERIAL PRIMARY KEY, name TEXT)\")\n",
    "conn.commit()\n",
    "print(\"Made a toys list in my big toy box!\")\n",
    "conn.close()"
   ]
  },
  {
   "cell_type": "code",
   "execution_count": 5,
   "metadata": {},
   "outputs": [
    {
     "name": "stdout",
     "output_type": "stream",
     "text": [
      "Added my toys to the big toy box!\n"
     ]
    }
   ],
   "source": [
    "# Insert toys into the table (store my toys in the big toy box)\n",
    "conn = psycopg2.connect(dbname=\"training_db\", user=\"postgres\", password=\"Qwerty123!!\", host=\"localhost\", port=\"5432\")\n",
    "cur = conn.cursor()\n",
    "cur.execute(\"INSERT INTO toys (name) VALUES ('car')\")\n",
    "cur.execute(\"INSERT INTO toys (name) VALUES ('ball')\")\n",
    "cur.execute(\"INSERT INTO toys (name) VALUES ('doll')\")\n",
    "conn.commit()\n",
    "print(\"Added my toys to the big toy box!\")\n",
    "conn.close()"
   ]
  },
  {
   "cell_type": "code",
   "execution_count": 6,
   "metadata": {},
   "outputs": [
    {
     "name": "stdout",
     "output_type": "stream",
     "text": [
      "Here are the toys I found in my big toy box: [('car',), ('ball',), ('doll',)]\n"
     ]
    }
   ],
   "source": [
    "# Retrieve toys from the table (find my toys in the big toy box)\n",
    "conn = psycopg2.connect(dbname=\"training_db\", user=\"postgres\", password=\"Qwerty123!!\", host=\"localhost\", port=\"5432\")\n",
    "cur = conn.cursor()\n",
    "cur.execute(\"SELECT name FROM toys\")\n",
    "toys_list = cur.fetchall()  # Get all the toys\n",
    "print(\"Here are the toys I found in my big toy box:\", toys_list)\n",
    "conn.close()"
   ]
  },
  {
   "cell_type": "code",
   "execution_count": 1,
   "metadata": {},
   "outputs": [
    {
     "ename": "NameError",
     "evalue": "name 'psycopg2' is not defined",
     "output_type": "error",
     "traceback": [
      "\u001b[31m---------------------------------------------------------------------------\u001b[39m",
      "\u001b[31mNameError\u001b[39m                                 Traceback (most recent call last)",
      "\u001b[36mCell\u001b[39m\u001b[36m \u001b[39m\u001b[32mIn[1]\u001b[39m\u001b[32m, line 1\u001b[39m\n\u001b[32m----> \u001b[39m\u001b[32m1\u001b[39m conn = \u001b[43mpsycopg2\u001b[49m.connect(dbname=\u001b[33m\"\u001b[39m\u001b[33mtraining_db\u001b[39m\u001b[33m\"\u001b[39m, user=\u001b[33m\"\u001b[39m\u001b[33mpostgres\u001b[39m\u001b[33m\"\u001b[39m, password=\u001b[33m\"\u001b[39m\u001b[33mQwerty123!!\u001b[39m\u001b[33m\"\u001b[39m, host=\u001b[33m\"\u001b[39m\u001b[33mlocalhost\u001b[39m\u001b[33m\"\u001b[39m, port=\u001b[33m\"\u001b[39m\u001b[33m5432\u001b[39m\u001b[33m\"\u001b[39m)\n\u001b[32m      2\u001b[39m cur = conn.cursor()\n\u001b[32m      3\u001b[39m cur.execute(\u001b[33m\"\u001b[39m\u001b[33mCREATE TABLE toys (id SERIAL PRIMARY KEY, name TEXT)\u001b[39m\u001b[33m\"\u001b[39m)\n",
      "\u001b[31mNameError\u001b[39m: name 'psycopg2' is not defined"
     ]
    }
   ],
   "source": [
    "conn = psycopg2.connect(dbname=\"training_db\", user=\"postgres\", password=\"Qwerty123!!\", host=\"localhost\", port=\"5432\")\n",
    "cur = conn.cursor()\n",
    "cur.execute(\"CREATE TABLE toys (id SERIAL PRIMARY KEY, name TEXT)\")\n",
    "conn.commit()\n",
    "print(\"Made a toys list in my big toy box!\")\n",
    "conn.close()"
   ]
  }
 ],
 "metadata": {
  "kernelspec": {
   "display_name": "Python 3 (ipykernel)",
   "language": "python",
   "name": "python3"
  },
  "language_info": {
   "codemirror_mode": {
    "name": "ipython",
    "version": 3
   },
   "file_extension": ".py",
   "mimetype": "text/x-python",
   "name": "python",
   "nbconvert_exporter": "python",
   "pygments_lexer": "ipython3",
   "version": "3.12.0"
  }
 },
 "nbformat": 4,
 "nbformat_minor": 4
}
